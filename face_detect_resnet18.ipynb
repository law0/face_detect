{
  "nbformat": 4,
  "nbformat_minor": 0,
  "metadata": {
    "colab": {
      "name": "face_detect_resnet18.ipynb",
      "provenance": [],
      "collapsed_sections": [],
      "authorship_tag": "ABX9TyOVX8Yw9ZcCi7MZOEcHFD9J",
      "include_colab_link": true
    },
    "kernelspec": {
      "name": "python3",
      "display_name": "Python 3"
    },
    "language_info": {
      "name": "python"
    },
    "accelerator": "GPU"
  },
  "cells": [
    {
      "cell_type": "markdown",
      "metadata": {
        "id": "view-in-github",
        "colab_type": "text"
      },
      "source": [
        "<a href=\"https://colab.research.google.com/github/law0/face_detect/blob/main/face_detect_resnet18.ipynb\" target=\"_parent\"><img src=\"https://colab.research.google.com/assets/colab-badge.svg\" alt=\"Open In Colab\"/></a>"
      ]
    },
    {
      "cell_type": "code",
      "metadata": {
        "id": "9SffnLE__zHX"
      },
      "source": [
        "req = \"\"\"# Python 3.7.5\n",
        "onnx>=1.7.0\n",
        "numpy>=1.19.1\n",
        "\n",
        "torch>=1.5.1\n",
        "torchvision>=0.6.1\n",
        "\n",
        "tensorflow>=2.1.0\n",
        "tensorflow-gpu>=2.1.0\"\"\"\n",
        "\n",
        "f = open(\"requirements.txt\", \"w\")\n",
        "f.write(req)\n",
        "f.close()"
      ],
      "execution_count": 22,
      "outputs": []
    },
    {
      "cell_type": "code",
      "metadata": {
        "colab": {
          "base_uri": "https://localhost:8080/"
        },
        "id": "hSl5bV8vA2hY",
        "outputId": "2257aff9-e8e2-4c04-a81d-4207ba95bdf0"
      },
      "source": [
        "!pip install -r requirements.txt"
      ],
      "execution_count": 23,
      "outputs": [
        {
          "output_type": "stream",
          "text": [
            "Requirement already satisfied: onnx>=1.7.0 in /usr/local/lib/python3.7/dist-packages (from -r requirements.txt (line 2)) (1.9.0)\n",
            "Requirement already satisfied: numpy>=1.19.1 in /usr/local/lib/python3.7/dist-packages (from -r requirements.txt (line 3)) (1.19.5)\n",
            "Requirement already satisfied: torch>=1.5.1 in /usr/local/lib/python3.7/dist-packages (from -r requirements.txt (line 5)) (1.8.1+cu101)\n",
            "Requirement already satisfied: torchvision>=0.6.1 in /usr/local/lib/python3.7/dist-packages (from -r requirements.txt (line 6)) (0.9.1+cu101)\n",
            "Requirement already satisfied: tensorflow>=2.1.0 in /usr/local/lib/python3.7/dist-packages (from -r requirements.txt (line 8)) (2.4.1)\n",
            "Requirement already satisfied: tensorflow-gpu>=2.1.0 in /usr/local/lib/python3.7/dist-packages (from -r requirements.txt (line 9)) (2.4.1)\n",
            "Requirement already satisfied: six in /usr/local/lib/python3.7/dist-packages (from onnx>=1.7.0->-r requirements.txt (line 2)) (1.15.0)\n",
            "Requirement already satisfied: protobuf in /usr/local/lib/python3.7/dist-packages (from onnx>=1.7.0->-r requirements.txt (line 2)) (3.12.4)\n",
            "Requirement already satisfied: typing-extensions>=3.6.2.1 in /usr/local/lib/python3.7/dist-packages (from onnx>=1.7.0->-r requirements.txt (line 2)) (3.7.4.3)\n",
            "Requirement already satisfied: pillow>=4.1.1 in /usr/local/lib/python3.7/dist-packages (from torchvision>=0.6.1->-r requirements.txt (line 6)) (7.1.2)\n",
            "Requirement already satisfied: wrapt~=1.12.1 in /usr/local/lib/python3.7/dist-packages (from tensorflow>=2.1.0->-r requirements.txt (line 8)) (1.12.1)\n",
            "Requirement already satisfied: grpcio~=1.32.0 in /usr/local/lib/python3.7/dist-packages (from tensorflow>=2.1.0->-r requirements.txt (line 8)) (1.32.0)\n",
            "Requirement already satisfied: absl-py~=0.10 in /usr/local/lib/python3.7/dist-packages (from tensorflow>=2.1.0->-r requirements.txt (line 8)) (0.12.0)\n",
            "Requirement already satisfied: termcolor~=1.1.0 in /usr/local/lib/python3.7/dist-packages (from tensorflow>=2.1.0->-r requirements.txt (line 8)) (1.1.0)\n",
            "Requirement already satisfied: astunparse~=1.6.3 in /usr/local/lib/python3.7/dist-packages (from tensorflow>=2.1.0->-r requirements.txt (line 8)) (1.6.3)\n",
            "Requirement already satisfied: wheel~=0.35 in /usr/local/lib/python3.7/dist-packages (from tensorflow>=2.1.0->-r requirements.txt (line 8)) (0.36.2)\n",
            "Requirement already satisfied: gast==0.3.3 in /usr/local/lib/python3.7/dist-packages (from tensorflow>=2.1.0->-r requirements.txt (line 8)) (0.3.3)\n",
            "Requirement already satisfied: opt-einsum~=3.3.0 in /usr/local/lib/python3.7/dist-packages (from tensorflow>=2.1.0->-r requirements.txt (line 8)) (3.3.0)\n",
            "Requirement already satisfied: tensorboard~=2.4 in /usr/local/lib/python3.7/dist-packages (from tensorflow>=2.1.0->-r requirements.txt (line 8)) (2.4.1)\n",
            "Requirement already satisfied: keras-preprocessing~=1.1.2 in /usr/local/lib/python3.7/dist-packages (from tensorflow>=2.1.0->-r requirements.txt (line 8)) (1.1.2)\n",
            "Requirement already satisfied: h5py~=2.10.0 in /usr/local/lib/python3.7/dist-packages (from tensorflow>=2.1.0->-r requirements.txt (line 8)) (2.10.0)\n",
            "Requirement already satisfied: google-pasta~=0.2 in /usr/local/lib/python3.7/dist-packages (from tensorflow>=2.1.0->-r requirements.txt (line 8)) (0.2.0)\n",
            "Requirement already satisfied: tensorflow-estimator<2.5.0,>=2.4.0 in /usr/local/lib/python3.7/dist-packages (from tensorflow>=2.1.0->-r requirements.txt (line 8)) (2.4.0)\n",
            "Requirement already satisfied: flatbuffers~=1.12.0 in /usr/local/lib/python3.7/dist-packages (from tensorflow>=2.1.0->-r requirements.txt (line 8)) (1.12)\n",
            "Requirement already satisfied: setuptools in /usr/local/lib/python3.7/dist-packages (from protobuf->onnx>=1.7.0->-r requirements.txt (line 2)) (56.0.0)\n",
            "Requirement already satisfied: tensorboard-plugin-wit>=1.6.0 in /usr/local/lib/python3.7/dist-packages (from tensorboard~=2.4->tensorflow>=2.1.0->-r requirements.txt (line 8)) (1.8.0)\n",
            "Requirement already satisfied: google-auth<2,>=1.6.3 in /usr/local/lib/python3.7/dist-packages (from tensorboard~=2.4->tensorflow>=2.1.0->-r requirements.txt (line 8)) (1.28.1)\n",
            "Requirement already satisfied: requests<3,>=2.21.0 in /usr/local/lib/python3.7/dist-packages (from tensorboard~=2.4->tensorflow>=2.1.0->-r requirements.txt (line 8)) (2.23.0)\n",
            "Requirement already satisfied: werkzeug>=0.11.15 in /usr/local/lib/python3.7/dist-packages (from tensorboard~=2.4->tensorflow>=2.1.0->-r requirements.txt (line 8)) (1.0.1)\n",
            "Requirement already satisfied: google-auth-oauthlib<0.5,>=0.4.1 in /usr/local/lib/python3.7/dist-packages (from tensorboard~=2.4->tensorflow>=2.1.0->-r requirements.txt (line 8)) (0.4.4)\n",
            "Requirement already satisfied: markdown>=2.6.8 in /usr/local/lib/python3.7/dist-packages (from tensorboard~=2.4->tensorflow>=2.1.0->-r requirements.txt (line 8)) (3.3.4)\n",
            "Requirement already satisfied: pyasn1-modules>=0.2.1 in /usr/local/lib/python3.7/dist-packages (from google-auth<2,>=1.6.3->tensorboard~=2.4->tensorflow>=2.1.0->-r requirements.txt (line 8)) (0.2.8)\n",
            "Requirement already satisfied: cachetools<5.0,>=2.0.0 in /usr/local/lib/python3.7/dist-packages (from google-auth<2,>=1.6.3->tensorboard~=2.4->tensorflow>=2.1.0->-r requirements.txt (line 8)) (4.2.1)\n",
            "Requirement already satisfied: rsa<5,>=3.1.4; python_version >= \"3.6\" in /usr/local/lib/python3.7/dist-packages (from google-auth<2,>=1.6.3->tensorboard~=2.4->tensorflow>=2.1.0->-r requirements.txt (line 8)) (4.7.2)\n",
            "Requirement already satisfied: urllib3!=1.25.0,!=1.25.1,<1.26,>=1.21.1 in /usr/local/lib/python3.7/dist-packages (from requests<3,>=2.21.0->tensorboard~=2.4->tensorflow>=2.1.0->-r requirements.txt (line 8)) (1.24.3)\n",
            "Requirement already satisfied: idna<3,>=2.5 in /usr/local/lib/python3.7/dist-packages (from requests<3,>=2.21.0->tensorboard~=2.4->tensorflow>=2.1.0->-r requirements.txt (line 8)) (2.10)\n",
            "Requirement already satisfied: certifi>=2017.4.17 in /usr/local/lib/python3.7/dist-packages (from requests<3,>=2.21.0->tensorboard~=2.4->tensorflow>=2.1.0->-r requirements.txt (line 8)) (2020.12.5)\n",
            "Requirement already satisfied: chardet<4,>=3.0.2 in /usr/local/lib/python3.7/dist-packages (from requests<3,>=2.21.0->tensorboard~=2.4->tensorflow>=2.1.0->-r requirements.txt (line 8)) (3.0.4)\n",
            "Requirement already satisfied: requests-oauthlib>=0.7.0 in /usr/local/lib/python3.7/dist-packages (from google-auth-oauthlib<0.5,>=0.4.1->tensorboard~=2.4->tensorflow>=2.1.0->-r requirements.txt (line 8)) (1.3.0)\n",
            "Requirement already satisfied: importlib-metadata; python_version < \"3.8\" in /usr/local/lib/python3.7/dist-packages (from markdown>=2.6.8->tensorboard~=2.4->tensorflow>=2.1.0->-r requirements.txt (line 8)) (3.10.1)\n",
            "Requirement already satisfied: pyasn1<0.5.0,>=0.4.6 in /usr/local/lib/python3.7/dist-packages (from pyasn1-modules>=0.2.1->google-auth<2,>=1.6.3->tensorboard~=2.4->tensorflow>=2.1.0->-r requirements.txt (line 8)) (0.4.8)\n",
            "Requirement already satisfied: oauthlib>=3.0.0 in /usr/local/lib/python3.7/dist-packages (from requests-oauthlib>=0.7.0->google-auth-oauthlib<0.5,>=0.4.1->tensorboard~=2.4->tensorflow>=2.1.0->-r requirements.txt (line 8)) (3.1.0)\n",
            "Requirement already satisfied: zipp>=0.5 in /usr/local/lib/python3.7/dist-packages (from importlib-metadata; python_version < \"3.8\"->markdown>=2.6.8->tensorboard~=2.4->tensorflow>=2.1.0->-r requirements.txt (line 8)) (3.4.1)\n"
          ],
          "name": "stdout"
        }
      ]
    },
    {
      "cell_type": "code",
      "metadata": {
        "colab": {
          "base_uri": "https://localhost:8080/"
        },
        "id": "8TgpB8eMBY0-",
        "outputId": "e221f265-f564-480d-b211-8195da219fd7"
      },
      "source": [
        "from __future__ import print_function\n",
        "from __future__ import division\n",
        "import torch\n",
        "import torch.nn as nn\n",
        "import torch.nn.functional as F\n",
        "from torch.autograd import Variable\n",
        "import torch.optim as optim\n",
        "import numpy as np\n",
        "import torchvision\n",
        "from torchvision import datasets, models, transforms\n",
        "from torchvision.datasets import widerface\n",
        "import tensorflow_datasets.public_api as tfds\n",
        "import matplotlib.pyplot as plt\n",
        "import matplotlib.patches as patches\n",
        "import time\n",
        "import os\n",
        "import copy\n",
        "import pandas\n",
        "import requests\n",
        "import zipfile\n",
        "from math import ceil\n",
        "print(\"PyTorch Version: \",torch.__version__)\n",
        "print(\"Torchvision Version: \",torchvision.__version__)"
      ],
      "execution_count": 24,
      "outputs": [
        {
          "output_type": "stream",
          "text": [
            "PyTorch Version:  1.8.1+cu101\n",
            "Torchvision Version:  0.9.1+cu101\n"
          ],
          "name": "stdout"
        }
      ]
    },
    {
      "cell_type": "code",
      "metadata": {
        "id": "DBALyYqvLfYJ"
      },
      "source": [
        "device = torch.device('cuda' if torch.cuda.is_available() else 'cpu')"
      ],
      "execution_count": 25,
      "outputs": []
    },
    {
      "cell_type": "code",
      "metadata": {
        "id": "clp6NuT5VLj2"
      },
      "source": [
        "batch_size_train = 64\n",
        "batch_size_test = 1\n",
        "img_dim = 224\n",
        "\n",
        "def detection_collate(batch):\n",
        "  \"\"\"Custom collate fn for dealing with batches of images that have a different\n",
        "  number of associated object annotations (bounding boxes).\n",
        "  Arguments:\n",
        "      batch: (tuple) A tuple of tensor images and lists of annotations\n",
        "  Return:\n",
        "      A tuple containing:\n",
        "          1) (tensor) batch of images stacked on their 0 dim\n",
        "          2) (list of tensors) annotations for a given image are stacked on 0 dim\n",
        "  \"\"\"\n",
        "  transform_resize = transforms.Resize((img_dim, img_dim))\n",
        "  targets = []\n",
        "  imgs = []\n",
        "  for _, sample in enumerate(batch):\n",
        "    img, annot = sample\n",
        "    orig_h = img.shape[1]\n",
        "    orig_w = img.shape[2]\n",
        "    img = transform_resize(img)\n",
        "    imgs.append(img)\n",
        "\n",
        "    target = torch.tensor(annot['bbox']).float()\n",
        "    target[:,0] = target[:,0] / orig_w * img_dim\n",
        "    target[:,2] = target[:,2] / orig_w * img_dim\n",
        "\n",
        "    target[:,1] = target[:,1] / orig_h * img_dim\n",
        "    target[:,3] = target[:,3] / orig_h * img_dim\n",
        "    targets.append(target)\n",
        "\n",
        "  return (torch.stack(imgs, 0), targets)"
      ],
      "execution_count": 26,
      "outputs": []
    },
    {
      "cell_type": "code",
      "metadata": {
        "colab": {
          "base_uri": "https://localhost:8080/"
        },
        "id": "vtAdkrrOVF40",
        "outputId": "df802e6a-ca08-419d-dc5b-eeba14d7b835"
      },
      "source": [
        "train_loader = torch.utils.data.DataLoader(\n",
        "  datasets.WIDERFace('./', \"train\", download=True,\n",
        "                             transform=transforms.Compose([\n",
        "                                transforms.ToTensor(),\n",
        "                                transforms.Normalize(mean=[0.485, 0.456, 0.406],\n",
        "                                    std=[0.229, 0.224, 0.225])\n",
        "                             ])),\n",
        "  batch_size=batch_size_train, shuffle=True, collate_fn=detection_collate)\n",
        "\n",
        "val_loader = torch.utils.data.DataLoader(\n",
        "  datasets.WIDERFace('./', \"val\", download=True,\n",
        "                              transform=transforms.Compose([\n",
        "                                transforms.ToTensor(),\n",
        "                                transforms.Normalize(mean=[0.485, 0.456, 0.406],\n",
        "                                    std=[0.229, 0.224, 0.225])\n",
        "                             ])),\n",
        "  batch_size=batch_size_train, shuffle=True, collate_fn=detection_collate)\n",
        "\n",
        "test_loader = torch.utils.data.DataLoader(\n",
        "  datasets.WIDERFace('./', \"test\", download=True,\n",
        "                             transform=transforms.Compose([\n",
        "                              transforms.ToTensor(),\n",
        "                              transforms.Normalize(mean=[0.485, 0.456, 0.406],\n",
        "                                  std=[0.229, 0.224, 0.225])\n",
        "                             ])),\n",
        "  batch_size=batch_size_test, shuffle=True, collate_fn=detection_collate)\n",
        "\n"
      ],
      "execution_count": 27,
      "outputs": [
        {
          "output_type": "stream",
          "text": [
            "Files already downloaded and verified\n",
            "Files already downloaded and verified\n",
            "Files already downloaded and verified\n"
          ],
          "name": "stdout"
        }
      ]
    },
    {
      "cell_type": "code",
      "metadata": {
        "colab": {
          "base_uri": "https://localhost:8080/",
          "height": 411
        },
        "id": "qZZKtYFAEFlj",
        "outputId": "08c2409f-502c-4054-b9d3-c38a55910859"
      },
      "source": [
        "images, targets = next(iter(train_loader))\n",
        "\n",
        "fig, ax = plt.subplots()\n",
        "\n",
        "ax.imshow(images[0].permute(1, 2, 0))\n",
        "\n",
        "num_targets = targets[0].shape[0]\n",
        "for i in range(num_targets):\n",
        "  #x,y represent bottom left corner\n",
        "  x = targets[0][i][0]\n",
        "  y = targets[0][i][1]\n",
        "  w = targets[0][i][2]\n",
        "  h = targets[0][i][3]\n",
        "  print(\"{} {} {} {}\".format(x, y, w, h))\n",
        "  rect = patches.Rectangle((x, y), w, h, linewidth=1, edgecolor='r', facecolor='none')\n",
        "\n",
        "  # Add the patch to the Axes\n",
        "  ax.add_patch(rect)\n",
        "\n",
        "plt.show()"
      ],
      "execution_count": 28,
      "outputs": [
        {
          "output_type": "stream",
          "text": [
            "/usr/local/lib/python3.7/dist-packages/ipykernel_launcher.py:25: UserWarning: To copy construct from a tensor, it is recommended to use sourceTensor.clone().detach() or sourceTensor.clone().detach().requires_grad_(True), rather than torch.tensor(sourceTensor).\n",
            "Clipping input data to the valid range for imshow with RGB data ([0..1] for floats or [0..255] for integers).\n"
          ],
          "name": "stderr"
        },
        {
          "output_type": "stream",
          "text": [
            "175.65625 60.40449523925781 19.25 41.707862854003906\n",
            "167.125 21.573034286499023 18.375 38.47190856933594\n",
            "118.34375 22.65168571472168 17.71875 37.03370666503906\n",
            "68.90625 47.82022476196289 18.59375 37.03370666503906\n",
            "43.96875 36.314605712890625 15.75 43.505619049072266\n"
          ],
          "name": "stdout"
        },
        {
          "output_type": "display_data",
          "data": {
            "image/png": "[encoded data removed]",
            "text/plain": [
              "<Figure size 432x288 with 1 Axes>"
            ]
          },
          "metadata": {
            "tags": [],
            "needs_background": "light"
          }
        }
      ]
    },
    {
      "cell_type": "code",
      "metadata": {
        "id": "Cme5ImiRl-oJ"
      },
      "source": [
        "class ResnetGrid7x7(nn.Module):\n",
        "    def __init__(self, resnet=models.resnet18(pretrained=True)):\n",
        "      super(ResnetGrid7x7, self).__init__()\n",
        "      self.resnet = resnet\n",
        "      self.resnet.fc = nn.Linear(512, 49*5) # 7 * 7 * ((x,y,w,h) + confidence)\n",
        "      self.sigmo = nn.Sigmoid()\n",
        "      \n",
        "    def forward(self, x):\n",
        "      return self.sigmo(self.resnet(x))"
      ],
      "execution_count": 29,
      "outputs": []
    },
    {
      "cell_type": "code",
      "metadata": {
        "id": "ekJ8n__sjewS"
      },
      "source": [
        "def getResponsibleCells(targets):\n",
        "  # 224 / 7 = 32\n",
        "\n",
        "  \"\"\"return list (of len batch_size)\n",
        "  of tuples of tensor.\n",
        "  Each tuples contains:\n",
        "    - A tensor of size (num_targets)\n",
        "      containing which cell (from 0 to 49)\n",
        "      is responsible for the box.\n",
        "      -1 means not found\n",
        "    - A tensor of size (49, 4)\n",
        "      containing : \n",
        "      the box the aformentioned cell is responsible of at the cell index\n",
        "      OR a fake box of size of the image if no box is assigned to the cell\"\"\"\n",
        "\n",
        "  out = []\n",
        "  batch_size = len(targets)\n",
        "  for j in range(batch_size):\n",
        "    num_targets = targets[j].shape[0]\n",
        "    out_cell = - torch.ones(num_targets)\n",
        "    out_box = torch.zeros((49, 4))\n",
        "    for k in range(num_targets):\n",
        "      target = targets[j][k]\n",
        "      center_x = target[0] + target[2]/2\n",
        "      center_y = target[1] + target[3]/2\n",
        "      for i in range(49):\n",
        "        cell_x = (i % 7) * 32\n",
        "        cell_y = (i / 7) * 32\n",
        "        #Y axes is going down\n",
        "        if cell_x <= center_x and center_x < cell_x + 32 and cell_y >= center_y and center_y > cell_y - 32:\n",
        "          out_cell[k] = i\n",
        "          out_box[i] = target.float() / img_dim\n",
        "        else:\n",
        "          out_box[i] = torch.tensor((0., 0., 1., 1.))\n",
        "    out.append((out_cell.long(), out_box))\n",
        "    \n",
        "  return out #(batch_size, num_targets)\n",
        "\n",
        "class PseudoYolo7x7Loss(nn.Module):\n",
        "    def __init__(self, alpha):\n",
        "      super(PseudoYolo7x7Loss, self).__init__()\n",
        "      self.alpha = alpha\n",
        "      self.bce_loss = nn.BCELoss()\n",
        "      self.mse_loss = nn.MSELoss()\n",
        "\n",
        "    def forward(self, predictions, targets):\n",
        "      preds = predictions.view(-1, 49, 5)\n",
        "      batch_size = preds.shape[0]\n",
        "\n",
        "      preds_confs = preds[:,:,0]\n",
        "      preds_boxes = preds[:,:,1:]\n",
        "\n",
        "      responsible_cells = getResponsibleCells(targets)\n",
        "      target_confs_list = []\n",
        "      target_boxes_list = []\n",
        "      for cell_indexes, boxes in responsible_cells:\n",
        "        multi_hot = torch.zeros(49)\n",
        "        multi_hot[cell_indexes] = 1\n",
        "        target_confs_list.append(multi_hot)\n",
        "        target_boxes_list.append(boxes)\n",
        "\n",
        "      targets_confs = torch.stack(target_confs_list, 0)\n",
        "      targets_boxes = torch.stack(target_boxes_list, 0)\n",
        "\n",
        "      preds_confs = preds_confs.to(device)\n",
        "      preds_boxes = preds_boxes.to(device)\n",
        "      targets_confs = targets_confs.to(device)\n",
        "      targets_boxes = targets_boxes.to(device)\n",
        "\n",
        "      c_loss = self.bce_loss(preds_confs, targets_confs)\n",
        "      b_loss = self.mse_loss(preds_boxes, targets_boxes)\n",
        "      return b_loss + self.alpha * c_loss\n",
        "      "
      ],
      "execution_count": 30,
      "outputs": []
    },
    {
      "cell_type": "code",
      "metadata": {
        "colab": {
          "base_uri": "https://localhost:8080/"
        },
        "id": "1LgPrCnlTvhC",
        "outputId": "6563a1ec-b617-4263-b76b-c25e4e658eac"
      },
      "source": [
        "model = ResnetGrid7x7()\n",
        "optimizer = optim.SGD(model.parameters(), lr=1e-3, weight_decay=5e-4)\n",
        "criterion = PseudoYolo7x7Loss(0.1)\n",
        "\n",
        "model.to(device)\n",
        "for i, (images, targets) in enumerate(train_loader):\n",
        "  images = images.to(device)\n",
        "  targets = [anno.to(device) for anno in targets]\n",
        "\n",
        "  optimizer.zero_grad()\n",
        "\n",
        "  out = model(images)\n",
        "  loss = criterion(out, targets)\n",
        "  loss.backward()\n",
        "  optimizer.step()\n",
        "\n",
        "  if i % 10 == 0:\n",
        "    print(loss.item())\n"
      ],
      "execution_count": 34,
      "outputs": [
        {
          "output_type": "stream",
          "text": [
            "/usr/local/lib/python3.7/dist-packages/ipykernel_launcher.py:25: UserWarning: To copy construct from a tensor, it is recommended to use sourceTensor.clone().detach() or sourceTensor.clone().detach().requires_grad_(True), rather than torch.tensor(sourceTensor).\n"
          ],
          "name": "stderr"
        },
        {
          "output_type": "stream",
          "text": [
            "0.33414873480796814\n",
            "0.33232101798057556\n",
            "0.33098581433296204\n",
            "0.3313322961330414\n",
            "0.3299010694026947\n",
            "0.3270488977432251\n",
            "0.32743555307388306\n",
            "0.32502877712249756\n",
            "0.3246351480484009\n",
            "0.32455363869667053\n",
            "0.32246845960617065\n",
            "0.32276681065559387\n",
            "0.3204980790615082\n",
            "0.3190954923629761\n",
            "0.31844377517700195\n",
            "0.3167273700237274\n",
            "0.3161976635456085\n",
            "0.316366046667099\n",
            "0.3150627017021179\n",
            "0.3130781650543213\n",
            "0.3115079998970032\n"
          ],
          "name": "stdout"
        }
      ]
    },
    {
      "cell_type": "code",
      "metadata": {
        "id": "e9iOdbczx0yh"
      },
      "source": [
        ""
      ],
      "execution_count": null,
      "outputs": []
    }
  ]
}